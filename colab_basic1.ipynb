{
  "nbformat": 4,
  "nbformat_minor": 0,
  "metadata": {
    "colab": {
      "private_outputs": true,
      "provenance": [],
      "authorship_tag": "ABX9TyNtxa0589e6s5lafkI/Ru+k",
      "include_colab_link": true
    },
    "kernelspec": {
      "name": "python3",
      "display_name": "Python 3"
    },
    "language_info": {
      "name": "python"
    }
  },
  "cells": [
    {
      "cell_type": "markdown",
      "metadata": {
        "id": "view-in-github",
        "colab_type": "text"
      },
      "source": [
        "<a href=\"https://colab.research.google.com/github/aromi3830/Code_Block_Test/blob/main/colab_basic1.ipynb\" target=\"_parent\"><img src=\"https://colab.research.google.com/assets/colab-badge.svg\" alt=\"Open In Colab\"/></a>"
      ]
    },
    {
      "cell_type": "code",
      "execution_count": null,
      "metadata": {
        "id": "HZr09AIgiXV_"
      },
      "outputs": [],
      "source": [
        "# 학생 성적 관리 프로그램\n",
        "\n",
        "# 학생 수\n",
        "num_students = 5\n",
        "\n",
        "# 학생 정보를 저장할 리스트\n",
        "students = []\n",
        "\n",
        "# 학생 성적 입력\n",
        "for i in range(num_students):\n",
        "    print(f\"\\n[{i+1}번째 학생 정보 입력]\")\n",
        "    name = input(\"이름: \")\n",
        "    korean = float(input(\"국어 점수: \"))\n",
        "    math = float(input(\"수학 점수: \"))\n",
        "    science = float(input(\"과학 점수: \"))\n",
        "\n",
        "    # 합계와 평균 계산\n",
        "    total = korean + math + science\n",
        "    average = total / 3\n",
        "\n",
        "    # 학생 정보 저장 (딕셔너리 형태)\n",
        "    student = {\n",
        "        \"이름\": name,\n",
        "        \"국어\": korean,\n",
        "        \"수학\": math,\n",
        "        \"과학\": science,\n",
        "        \"합계\": total,\n",
        "        \"평균\": round(average, 2)\n",
        "    }\n",
        "\n",
        "    students.append(student)\n",
        "\n",
        "# 전체 과목별 합계 및 평균 계산\n",
        "total_korean = sum(s[\"국어\"] for s in students)\n",
        "total_math = sum(s[\"수학\"] for s in students)\n",
        "total_science = sum(s[\"과학\"] for s in students)\n",
        "\n",
        "avg_korean = total_korean / num_students\n",
        "avg_math = total_math / num_students\n",
        "avg_science = total_science / num_students\n",
        "\n",
        "# 결과 출력\n",
        "print(\"\\n===== 학생별 성적표 =====\")\n",
        "print(\"이름\\t국어\\t수학\\t과학\\t합계\\t평균\")\n",
        "for s in students:\n",
        "    print(f\"{s['이름']}\\t{s['국어']}\\t{s['수학']}\\t{s['과학']}\\t{s['합계']}\\t{s['평균']}\")\n",
        "\n",
        "print(\"\\n===== 과목별 평균 =====\")\n",
        "print(f\"국어 평균: {avg_korean:.2f}\")\n",
        "print(f\"수학 평균: {avg_math:.2f}\")\n",
        "print(f\"과학 평균: {avg_science:.2f}\")"
      ]
    }
  ]
}