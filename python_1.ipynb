{
  "nbformat": 4,
  "nbformat_minor": 0,
  "metadata": {
    "colab": {
      "private_outputs": true,
      "provenance": [],
      "authorship_tag": "ABX9TyOYeuYHBnmenjZO3vQDYuS9",
      "include_colab_link": true
    },
    "kernelspec": {
      "name": "python3",
      "display_name": "Python 3"
    },
    "language_info": {
      "name": "python"
    }
  },
  "cells": [
    {
      "cell_type": "markdown",
      "metadata": {
        "id": "view-in-github",
        "colab_type": "text"
      },
      "source": [
        "<a href=\"https://colab.research.google.com/github/aromi3830/Code_Block_Test/blob/main/python_1.ipynb\" target=\"_parent\"><img src=\"https://colab.research.google.com/assets/colab-badge.svg\" alt=\"Open In Colab\"/></a>"
      ]
    },
    {
      "cell_type": "markdown",
      "source": [
        "**w3school 사이트 맛보기**"
      ],
      "metadata": {
        "id": "uE75lLBSumUC"
      }
    },
    {
      "cell_type": "code",
      "execution_count": null,
      "metadata": {
        "id": "R0UwFxwStAAQ"
      },
      "outputs": [],
      "source": [
        "print(\"hello\")"
      ]
    },
    {
      "cell_type": "code",
      "source": [
        "try:\n",
        "    dan = int(input(\"출력할 구구단을 입력하세요 (2~9): \"))\n",
        "\n",
        "    if 2 <= dan <= 9:\n",
        "        print(f\"\\n📘 {dan}단 출력\\n\")\n",
        "        for i in range(1, 10):\n",
        "            print(f\"{dan} x {i} = {dan * i}\")\n",
        "    else:\n",
        "        print(\"⚠️ 2부터 9 사이의 숫자만 입력하세요.\")\n",
        "except ValueError:\n",
        "    print(\"⚠️ 숫자를 입력해야 합니다.\")\n",
        ""
      ],
      "metadata": {
        "id": "2v3tm4Xgzl1Y"
      },
      "execution_count": null,
      "outputs": []
    }
  ]
}